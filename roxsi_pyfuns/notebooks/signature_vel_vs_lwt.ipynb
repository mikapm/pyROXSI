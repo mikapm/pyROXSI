{
 "cells": [
  {
   "attachments": {},
   "cell_type": "markdown",
   "metadata": {},
   "source": [
    "## Compare Signature1000 velocity profiles to linear wave theory (LWT) predictions.o\n",
    "ROXSI Asilomar 2022 experiment data."
   ]
  },
  {
   "cell_type": "code",
   "execution_count": 1,
   "metadata": {},
   "outputs": [],
   "source": [
    "# Imports\n",
    "import os\n",
    "import glob\n",
    "import numpy as np \n",
    "import pandas as pd\n",
    "import xarray as xr\n",
    "from scipy.signal import detrend\n",
    "from tqdm.notebook import tqdm\n",
    "import matplotlib.pyplot as plt\n",
    "%matplotlib widget\n",
    "import cmocean\n",
    "from PyPDF2 import PdfWriter\n",
    "from roxsi_pyfuns import wave_spectra as rpws\n",
    "import warnings\n",
    "warnings.filterwarnings(\"ignore\")\n",
    "\n",
    "# Defaulkt mooring IDs and serial numbers\n",
    "mids = {'103206':'L5', '103088':'C1', '103094':'C3'} # Mooring IDs from experiment\n",
    "sig_mids = {'C1':'SO', 'C3':'SM', 'C6':'SI', 'L1':'SS', 'L5':'SN'} # Mooring IDs used in paper\n"
   ]
  },
  {
   "cell_type": "code",
   "execution_count": 2,
   "metadata": {},
   "outputs": [],
   "source": [
    "# Functions\n",
    "def velocity_statistics(ds, dsa, seglen='1h', fs=4, theta=25):\n",
    "    \"\"\"\n",
    "    ADCP beam velocity statistics estimated from beam velocities.\n",
    "\n",
    "    Parameters:\n",
    "        ds - xr.Dataset with beam velocities:\n",
    "             ['vB1', 'vB2', 'vB3', 'vB4', 'vB5']\n",
    "        seglen - str; segment length\n",
    "        fs - float; sampling frequency (Hz)\n",
    "        theta - float; beam angle to vertical (degrees)\n",
    "\n",
    "    Returns:\n",
    "        ds_out - xr.Dataset with spectra and variance for each beam \n",
    "                 velocity in input ds\n",
    "\n",
    "    \"\"\"\n",
    "    thetar = np.deg2rad(theta) # Beam angle in radians\n",
    "    # Define segment start/end times \n",
    "    t0 = pd.Timestamp(ds.time.values[0]).floor(seglen)\n",
    "    t1 = pd.Timestamp(ds.time.values[-1]).ceil(seglen)\n",
    "    seg_range = pd.date_range(t0, t1, freq=seglen)\n",
    "    N = int(pd.Timedelta(seglen).total_seconds()) * fs # Samples in segment \n",
    "    # Lists for concatenating spectra\n",
    "    dsd = {} # Dict for concatenated spectrum datasets\n",
    "    times = [] # Spectrum timestamps\n",
    "    # Iterate over beams\n",
    "    print('Estimating velocity spectra ...')\n",
    "    for kb in tqdm(['vB1', 'vB2', 'vB3', 'vB4', 'vB5']):\n",
    "        dsl_spec = [] # List for concatenating spectra\n",
    "        # Iterate over segments and estimate beam velocity spectra\n",
    "        for t0s, t1s in zip(seg_range[:-1], seg_range[1:]):\n",
    "            times.append(t0s) # Append time\n",
    "            # Iterate over range bins\n",
    "            bin_spec = [] # List to store spectra by range bin\n",
    "            for rbin in ds.range.values:\n",
    "                # Take out segment for current beam velocity\n",
    "                seg = ds[kb].sel(time=slice(t0s,t1s), range=rbin).copy()\n",
    "                # Estimate beam velocity spectrum if enough valid values\n",
    "                nseg = len(seg.values) # Segment length\n",
    "                # Allow max 10% NaNs\n",
    "                if np.sum(np.isnan(seg.values)) < 0.1*nseg:\n",
    "                    # Interpolate and estimate spectrum\n",
    "                    seg_i = seg.interpolate_na(dim='time').bfill(dim='time').ffill(dim='time')\n",
    "                    ds_spec = rpws.spec_uvz(detrend(seg_i.values), fs=fs)\n",
    "                    # Add range to spectrum dataset\n",
    "                    ds_spec = ds_spec.assign_coords(range=[rbin])\n",
    "                    # print(f'ds_spec.Ezz: {ds_spec.Ezz}')\n",
    "                    # Save spectrum to dataset with range coord/dim and append to list\n",
    "                    spec = xr.Dataset(data_vars={'Ezz':(['freq','range'], np.atleast_2d(ds_spec.Ezz.values).T)},\n",
    "                                      coords=dict(freq=(['freq'], ds_spec.freq.values),\n",
    "                                                  range=(['range'], [rbin]),\n",
    "                                                  ),\n",
    "                                      )\n",
    "                    # Also compute variance of beam velocity and add to dataset\n",
    "                    var = np.var(seg_i.values)\n",
    "                    spec['variance'] = (['range'], [var])\n",
    "                    # Append spectrum to list\n",
    "                    bin_spec.append(spec)\n",
    "                else:\n",
    "                    # Not enough good data, save array of NaNs\n",
    "                    seg_dummy = np.arange(N) * np.cos(np.arange(N)) # Dummy array\n",
    "                    ds_spec = rpws.spec_uvz(seg_dummy, fs=fs) # Dummy spectrum\n",
    "                    nan_array = np.ones(len(ds_spec.freq.values)) * np.nan # NaN array for dataset\n",
    "                    # Make empty spectrum (all NaN) and append to list\n",
    "                    empty_spec = xr.Dataset(data_vars={'Ezz':(['freq','range'], np.atleast_2d(nan_array).T)},\n",
    "                                            coords=dict(freq=(['freq'], ds_spec.freq.values),\n",
    "                                                        range=(['range'], [rbin]),\n",
    "                                                        ),\n",
    "                                            )\n",
    "                    # Add NaN variance to dataset\n",
    "                    empty_spec['variance'] = (['range'], [np.nan])\n",
    "                    bin_spec.append(empty_spec)\n",
    "            # Concatenate spectra for current beam by range\n",
    "            spectral_profile = xr.concat(bin_spec, dim='range')\n",
    "            # Add time coord. to spectrum dataset\n",
    "            spectral_profile = spectral_profile.assign_coords(time=[t0s])\n",
    "            # Add AST spectrum and variance (only once)\n",
    "            if kb == 'vB1':\n",
    "                ast = dsa.sel(time=slice(t0s,t1s)).copy() # AST segment\n",
    "                ast_i = ast.interpolate_na(dim='time').bfill(dim='time').ffill(dim='time')\n",
    "                if np.sum(np.isnan(ast_i.values)) == 0:\n",
    "                    # Estimate AST spectrum\n",
    "                    ds_spec_ast = rpws.spec_uvz(detrend(ast_i.values), fs=fs)\n",
    "                    # Save to dataset\n",
    "                    spectral_profile['AST_spec'] = (['freq', 'time'], np.atleast_2d(ds_spec_ast.Ezz.values).T)\n",
    "                    spectral_profile['AST_var'] = (['time'], [np.var(ast_i.values)])\n",
    "                    # Full water depth\n",
    "                    spectral_profile['depth'] = (['time'], [np.mean(ast_i.values)+0.35])\n",
    "                    # LWT estimates of hor. and vertical velocity\n",
    "                    m0 = rpws.spec_moment(ds_spec_ast.Ezz.values, ds_spec_ast.freq.values, 0)\n",
    "                    m1 = rpws.spec_moment(ds_spec_ast.Ezz.values, ds_spec_ast.freq.values, 1)\n",
    "                    fm = m1 / m0 # Mean wave freq. from AST spectrum\n",
    "                    fp = rpws.peak_freq(ds_spec_ast.Ezz.values, ds_spec_ast.freq.values) # peak freq\n",
    "                    spectral_profile['fm'] = (['time'], [fm])\n",
    "                    spectral_profile['fp'] = (['time'], [fp])\n",
    "                    # Mean/peak wavenumbers\n",
    "                    km = rpws.waveno_full(2*np.pi*fm, np.mean(ast_i.values)+0.35)\n",
    "                    kp = rpws.waveno_full(2*np.pi*fp, np.mean(ast_i.values)+0.35)\n",
    "                    spectral_profile['km'] = (['time'], [km.item()])\n",
    "                    spectral_profile['kp'] = (['time'], [kp.item()])\n",
    "                else:\n",
    "                    # For missing values save NaNs\n",
    "                    ast_dummy = np.arange(N) * np.cos(np.arange(N)) # Dummy array\n",
    "                    ds_spec_ast = rpws.spec_uvz(ast_dummy, fs=fs) # Dummy spectrum\n",
    "                    nan_array = np.ones(len(ds_spec_ast.freq.values)) * np.nan # NaN array for dataset\n",
    "                    spectral_profile['AST_spec'] = (['freq', 'time'], np.atleast_2d(nan_array).T)\n",
    "                    spectral_profile['AST_var'] = (['time'], [np.nan])\n",
    "                    spectral_profile['depth'] = (['time'], [np.nan])\n",
    "                    spectral_profile['fm'] = (['time'], [np.nan])\n",
    "                    spectral_profile['km'] = (['time'], [np.nan])\n",
    "                    spectral_profile['fp'] = (['time'], [np.nan])\n",
    "                    spectral_profile['kp'] = (['time'], [np.nan])\n",
    "            # Append to list\n",
    "            dsl_spec.append(spectral_profile)\n",
    "        # Concatenate spectral profiles by time\n",
    "        dsd[kb] = xr.concat(dsl_spec, dim='time')\n",
    "\n",
    "    # Compute horizontal velocity statistics. Start with u-vel. spec.\n",
    "    ds_out = (dsd['vB1'].Ezz + dsd['vB3'].Ezz - 2*dsd['vB5'].Ezz*np.cos(thetar)**2) / (2*np.sin(thetar)**2)\n",
    "    ds_out = ds_out.to_dataset().rename({'Ezz':'Uspec'}) # Rename first variable\n",
    "    # Add v-velocity spectrum\n",
    "    ds_out['Vspec'] = (dsd['vB2'].Ezz + dsd['vB4'].Ezz - 2*dsd['vB5'].Ezz*np.cos(thetar)**2) / (2*np.sin(thetar)**2)\n",
    "    ds_out['Wspec'] = dsd['vB5'].Ezz * 1\n",
    "    ds_out['ASTspec'] = dsd['vB1'].AST_spec * 1\n",
    "    # Estimate total hor. vel. variance\n",
    "    ds_out['Uvar'] = (dsd['vB1'].variance + dsd['vB3'].variance - 2*dsd['vB5'].variance*np.cos(thetar)**2) / (2*np.sin(thetar)**2)\n",
    "    ds_out['Vvar'] = (dsd['vB2'].variance + dsd['vB4'].variance - 2*dsd['vB5'].variance*np.cos(thetar)**2) / (2*np.sin(thetar)**2)\n",
    "    ds_out['Wvar'] = dsd['vB5'].variance * 1\n",
    "    ds_out['ASTvar'] = dsd['vB1'].AST_var * 1\n",
    "    ds_out['depth'] = dsd['vB1'].depth * 1\n",
    "    ds_out['fm'] = dsd['vB1'].fm * 1\n",
    "    ds_out['km'] = dsd['vB1'].km * 1\n",
    "    ds_out['fp'] = dsd['vB1'].fp * 1\n",
    "    ds_out['kp'] = dsd['vB1'].kp * 1\n",
    "    \n",
    "    return ds_out\n",
    "\n",
    "\n"
   ]
  },
  {
   "attachments": {},
   "cell_type": "markdown",
   "metadata": {},
   "source": [
    "Read data for desired ADCP (use serial number), perform QC on beam velocities based on beam amplitude and correlation, and compare estimated velocity statistics to LWT."
   ]
  },
  {
   "cell_type": "code",
   "execution_count": 9,
   "metadata": {},
   "outputs": [
    {
     "name": "stdout",
     "output_type": "stream",
     "text": [
      "Beam velocity QC ...\n"
     ]
    },
    {
     "data": {
      "application/vnd.jupyter.widget-view+json": {
       "model_id": "77e19c76b58644b484e22c32266d4096",
       "version_major": 2,
       "version_minor": 0
      },
      "text/plain": [
       "  0%|          | 0/10 [00:00<?, ?it/s]"
      ]
     },
     "metadata": {},
     "output_type": "display_data"
    },
    {
     "name": "stdout",
     "output_type": "stream",
     "text": [
      "Estimating velocity spectra ...\n"
     ]
    },
    {
     "data": {
      "application/vnd.jupyter.widget-view+json": {
       "model_id": "ae844a2f0ee2456bb4d6d92d1eb6c01b",
       "version_major": 2,
       "version_minor": 0
      },
      "text/plain": [
       "  0%|          | 0/5 [00:00<?, ?it/s]"
      ]
     },
     "metadata": {},
     "output_type": "display_data"
    }
   ],
   "source": [
    "# Paths etc\n",
    "ser = '103088' # Signature ADCP serial number\n",
    "rootdir = r'/media/mikapm/T7 Shield/ROXSI/Asilomar2022/SmallScaleArray'\n",
    "sigdir = os.path.join(rootdir, 'Signatures')\n",
    "datadir = os.path.join(sigdir, 'Level1', ser)\n",
    "outdir = os.path.join(datadir, 'beam_vel')\n",
    "if not os.path.isdir(outdir):\n",
    "    os.mkdir(outdir)\n",
    "# Date(s) to analyse\n",
    "t0 = pd.Timestamp('2022-07-05')\n",
    "# ndays = 1 # Number of days\n",
    "# t1 = t0 + pd.Timedelta(days=ndays)\n",
    "t1 = pd.Timestamp('2022-07-14')\n",
    "# Define output velocity spectrum and variance dataset nc filename\n",
    "fn_nc_out = os.path.join(sigdir, f'{ser}_vel_stats_{t0.strftime(\"%Y%m%d\")}_{t1.strftime(\"%Y%m%d\")}.nc')\n",
    "if not os.path.isfile(fn_nc_out):\n",
    "    dates = pd.date_range(t0, t1, freq='1d')\n",
    "    # Perform QC on beam velocities and concatenate to one dataset\n",
    "    dsl_v = [] # Empty list for concatenating QC'd beam vel. datasets\n",
    "    dsl_a = [] # Empty list for concatenating despiked AST range datasets\n",
    "    amp_thresh = 40 # Beam amplitude minimum threshold (dB)\n",
    "    corr_thresh = 75 # Beam correlation minimum threshold (%)\n",
    "    print('Beam velocity QC ...')\n",
    "    for date in tqdm(dates):\n",
    "        datestr = date.strftime('%Y%m%d')\n",
    "        # Read beam velocity dataset for current date\n",
    "        fn_nc = os.path.join(datadir, f'Asilomar_SSA_Sig_Vel_{ser}_{datestr}_v2.nc')\n",
    "        dsi = xr.open_dataset(fn_nc)\n",
    "        # Make masks for keeping only good values\n",
    "        # valid = (dsi.range < (0.9 * dsi.ASTd.min(dim='time').item())) # Valid range values below surface\n",
    "        # valid = (dsi.range < (0.9 * dsi.ASTd.resample(time='1h').mean())) # Valid range values below surface\n",
    "        valid = (dsi.range < (0.9 * dsi.ASTd)) # Valid range values below surface\n",
    "        good = {'B1': ((dsi.ampB1>amp_thresh) & (dsi.corrB1>corr_thresh)), # Good Beam1 values based on amp&corr\n",
    "                'B2': ((dsi.ampB2>amp_thresh) & (dsi.corrB2>corr_thresh)), # Good Beam2 values based on amp&corr\n",
    "                'B3': ((dsi.ampB3>amp_thresh) & (dsi.corrB3>corr_thresh)), # Good Beam3 values based on amp&corr\n",
    "                'B4': ((dsi.ampB4>amp_thresh) & (dsi.corrB4>corr_thresh)), # Good Beam4 values based on amp&corr\n",
    "                'B5': ((dsi.ampB5>amp_thresh) & (dsi.corrB5>corr_thresh)), # Good Beam5 values based on amp&corr\n",
    "                }\n",
    "        keys = ['vB1', 'vB2', 'vB3', 'vB4', 'vB5'] # Keys for beam vel.\n",
    "        # Only keep valid/good beam velocities\n",
    "        good_vb = dsi[keys].where((valid & good['B1'] & good['B2'] & good['B3'] & good['B4'] & good['B5'])).copy()\n",
    "        # Append to lists for concatenating\n",
    "        dsl_v.append(good_vb)\n",
    "        dsl_a.append(dsi.ASTd)\n",
    "    # Concatenate QC'd beam vel. datasets\n",
    "    dsv = xr.concat(dsl_v, dim='time')\n",
    "    dsa = xr.concat(dsl_a, dim='time')\n",
    "\n",
    "    # Estimate velocity statistics for beam velocities and save to netcdf\n",
    "    dss = velocity_statistics(dsv, dsa)\n",
    "    # Save to netcdf\n",
    "    dss.to_netcdf(fn_nc_out)\n",
    "else:\n",
    "    # Read premade file\n",
    "    dss = xr.open_dataset(fn_nc_out, decode_coords='all')\n"
   ]
  },
  {
   "attachments": {},
   "cell_type": "markdown",
   "metadata": {},
   "source": [
    "Plot individual hourly velocity profiles for given serial numbers."
   ]
  },
  {
   "cell_type": "code",
   "execution_count": null,
   "metadata": {},
   "outputs": [],
   "source": [
    "plt.clf()\n",
    "plt.close()\n",
    "\n",
    "sers = ['103088', '103094', '103206']\n",
    "# mids = {'103206':'L5', '103088':'C1', '103094':'C3', '103110':'C6'} # Mooring IDs\n",
    "mids = {'103206':'L5', '103088':'C1', '103094':'C3'} # Mooring IDs\n",
    "sig_mids = {'C1':'SO', 'C3':'SM', 'C6':'SI', 'L1':'SS', 'L5':'SN'}\n",
    "dsd = []\n",
    "for ser in sers:\n",
    "    fn_nc = os.path.join(sigdir, f'{ser}_vel_stats_20220705_20220714.nc')\n",
    "    dsd.append(xr.open_dataset(fn_nc, decode_coords='all'))\n",
    "\n",
    "# Time to plot\n",
    "t0p = pd.Timestamp('2022-07-13 05:00')\n",
    "cs = ['C0', 'C1', 'C2'] # Plot line colors\n",
    "fig, axes = plt.subplots(figsize=(8,8), ncols=2, sharey=True, sharex=True)\n",
    "for ds,ser,c in zip(dsd,sers,cs):\n",
    "    mid = mids[ser]\n",
    "    loc = sig_mids[mid]\n",
    "    # Depth offset vs. SN depth\n",
    "    depth_loc = ds.depth.sel(time=t0p).item()\n",
    "    depth_north = dsd[-1].depth.sel(time=t0p).item()\n",
    "    d_offset = depth_north - depth_loc\n",
    "    dp = ((ds.range.values + d_offset) - depth_north)# / depth_north\n",
    "    # (ds.Uvar + ds.Vvar).sel(time=t0p).plot(ax=axes[0], y='range', label=ser)\n",
    "    axes[0].plot(np.sqrt((ds.Uvar + ds.Vvar)).sel(time=t0p), dp, label=loc, c=c)\n",
    "    # ds.Wvar.sel(time=t0p).plot(ax=axes[1], y='range', label=ser)\n",
    "    axes[1].plot(np.sqrt(ds.Wvar).sel(time=t0p), dp, label=loc, c=c)\n",
    "    # LWT estimate\n",
    "    m0 = rpws.spec_moment(ds.ASTspec.sel(time=t0p).values, ds.freq.values, 0)\n",
    "    m1 = rpws.spec_moment(ds.ASTspec.sel(time=t0p).values, ds.freq.values, 1)\n",
    "    fm = m1 / m0 # Mean wave freq. from AST spectrum\n",
    "    k = rpws.waveno_full(2*np.pi*fm, depth_loc)\n",
    "    u_lwt = np.cosh(k*(ds.range+0.35)) / np.sinh(k*depth_loc) * np.sqrt(np.mean(ds.ASTvar.sel(time=t0p)))*2*np.pi*fm\n",
    "    axes[0].plot(u_lwt, dp, label=f'{loc} (LWT)', c=c, ls='--')\n",
    "    w_lwt = np.sinh(k*(ds.range+0.35)) / np.sinh(k*depth_loc) * np.sqrt(np.mean(ds.ASTvar.sel(time=t0p)))*2*np.pi*fm\n",
    "    axes[1].plot(w_lwt, dp, label=f'{loc} (LWT)', c=c, ls='--')\n",
    "axes[0].set_xlabel(r'$\\sqrt{(\\mathrm{Uvar + Vvar)}}$ [m/s]')\n",
    "axes[1].set_xlabel(r'$\\sqrt{\\mathrm{Wvar}}$ [m/s]')\n",
    "axes[0].set_ylabel('Depth below surface [m]')\n",
    "axes[1].set_ylabel(None)\n",
    "for ax in axes:\n",
    "    ax.legend()\n",
    "    ax.set_title(None)\n",
    "    ax.set_xlim([0,0.5])\n",
    "    ax.set_ylim([None,0])\n",
    "\n",
    "plt.suptitle(str(t0p))\n",
    "plt.tight_layout()\n",
    "plt.show()"
   ]
  },
  {
   "attachments": {},
   "cell_type": "markdown",
   "metadata": {},
   "source": [
    "Plot profiles of measured/LWT estimates of std(U) and std(W) for given serial number."
   ]
  },
  {
   "cell_type": "code",
   "execution_count": 13,
   "metadata": {},
   "outputs": [
    {
     "data": {
      "application/vnd.jupyter.widget-view+json": {
       "model_id": "2ecff2964e844c7fb0945e450f7eab88",
       "version_major": 2,
       "version_minor": 0
      },
      "image/png": "[encoded data removed]",
      "text/html": [
       "\n",
       "            <div style=\"display: inline-block;\">\n",
       "                <div class=\"jupyter-widgets widget-label\" style=\"text-align: center;\">\n",
       "                    Figure\n",
       "                </div>\n",
       "                <img src='data:image/png;base64,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' width=1200.0/>\n",
       "            </div>\n",
       "        "
      ],
      "text/plain": [
       "Canvas(toolbar=Toolbar(toolitems=[('Home', 'Reset original view', 'home', 'home'), ('Back', 'Back to previous …"
      ]
     },
     "metadata": {},
     "output_type": "display_data"
    }
   ],
   "source": [
    "plt.clf()\n",
    "plt.close()\n",
    "\n",
    "# Date to plot\n",
    "t0p = '2022-07-13'\n",
    "# Define serial number to plot and read netcdf file\n",
    "ser = '103094'\n",
    "mid = mids[ser]\n",
    "loc = sig_mids[mid]\n",
    "fn_nc = os.path.join(sigdir, f'{ser}_vel_stats_20220705_20220714.nc')\n",
    "ds = xr.open_dataset(fn_nc, decode_coords='all')\n",
    "\n",
    "# Plot measured U_std vs LWT estimate\n",
    "fig, ax = plt.subplots(figsize=(12,6))\n",
    "# ax.plot(np.sqrt((ds.Uvar + ds.Vvar)).sel(time=t0p), ds.range)\n",
    "# Measured std(U)\n",
    "u_meas = np.sqrt((ds.Uvar + ds.Vvar)).sel(time=t0p).copy()\n",
    "# u_meas = (ds.Uvar + ds.Vvar).sel(time=t0p).copy()\n",
    "# LWT estimate\n",
    "k = ds.km.sel(time=t0p).copy()\n",
    "f = ds.fm.sel(time=t0p).copy()\n",
    "z = ds.range.copy()\n",
    "h = ds.depth.sel(time=t0p).copy()\n",
    "ASTvar = ds.ASTvar.sel(time=t0p).copy()\n",
    "u_lwt = np.cosh(k*z) / np.sinh(k*h) * np.sqrt(np.mean(ASTvar))*2*np.pi*f\n",
    "# Plot profiles of ratio of u_meas/u_lwt\n",
    "u_ratio = (u_meas/u_lwt)\n",
    "# Set min/max range for colormap\n",
    "vmax = abs(max(u_ratio.max().item(), u_ratio.min().item()))\n",
    "dv = vmax - 1\n",
    "# Plot\n",
    "# u_ratio.plot.pcolormesh(ax=ax, x='time', y='range', cmap=cmocean.cm.balance, vmin=1-dv, vmax=1+dv)\n",
    "u_ratio.plot.pcolormesh(ax=ax, x='time', y='range', cmap=cmocean.cm.balance, vmin=0.5, vmax=1.5, levels=11)\n",
    "ds.depth.sel(time=t0p).plot(ax=ax, c='k')\n",
    "\n",
    "# Axis limits, labels, etc\n",
    "ax.set_ylim([0,None])\n",
    "\n",
    "plt.tight_layout()\n",
    "plt.show()\n",
    "\n"
   ]
  },
  {
   "cell_type": "code",
   "execution_count": 12,
   "metadata": {},
   "outputs": [
    {
     "data": {
      "text/plain": [
       "array([0.5, 0.6, 0.7, 0.8, 0.9, 1. , 1.1, 1.2, 1.3, 1.4, 1.5])"
      ]
     },
     "execution_count": 12,
     "metadata": {},
     "output_type": "execute_result"
    }
   ],
   "source": [
    "np.linspace(0.5,1.5,11)"
   ]
  },
  {
   "attachments": {},
   "cell_type": "markdown",
   "metadata": {},
   "source": [
    "Same as previous plot, but for vertical velocity profiles."
   ]
  },
  {
   "cell_type": "code",
   "execution_count": null,
   "metadata": {},
   "outputs": [],
   "source": [
    "plt.clf()\n",
    "plt.close()\n",
    "\n",
    "# Date to plot\n",
    "t0p = '2022-07-13'\n",
    "# Define serial number to plot and read netcdf file\n",
    "ser = '103088'\n",
    "mid = mids[ser]\n",
    "loc = sig_mids[mid]\n",
    "fn_nc = os.path.join(sigdir, f'{ser}_vel_stats_20220705_20220714.nc')\n",
    "ds = xr.open_dataset(fn_nc, decode_coords='all')\n",
    "\n",
    "# Plot measured U_std vs LWT estimate\n",
    "fig, ax = plt.subplots(figsize=(12,6))\n",
    "# ax.plot(np.sqrt((ds.Uvar + ds.Vvar)).sel(time=t0p), ds.range)\n",
    "# Measured std(U)\n",
    "w_meas = np.sqrt(ds.Wvar).sel(time=t0p).copy()\n",
    "# LWT estimate\n",
    "k = ds.km.sel(time=t0p).copy()\n",
    "f = ds.fm.sel(time=t0p).copy()\n",
    "z = ds.range.copy()\n",
    "h = ds.depth.sel(time=t0p).copy()\n",
    "ASTvar = ds.ASTvar.sel(time=t0p).copy()\n",
    "w_lwt = np.sinh(k*z) / np.sinh(k*h) * np.sqrt(np.mean(ASTvar))*2*np.pi*f\n",
    "# Plot profiles of ratio of w_meas/w_lwt\n",
    "w_ratio = (w_meas/w_lwt)\n",
    "# Set min/max range for colormap\n",
    "vmax = abs(max(w_ratio.max().item(), w_ratio.min().item()))\n",
    "dv = vmax - 1\n",
    "print(f'dv: {dv}')\n",
    "# Plot\n",
    "w_ratio.plot.pcolormesh(ax=ax, x='time', y='range', cmap=cmocean.cm.balance, vmin=1-dv, vmax=1+dv)\n",
    "\n",
    "# Axis limits, labels, etc\n",
    "ax.set_ylim([0,6])\n",
    "\n",
    "plt.tight_layout()\n",
    "plt.show()"
   ]
  },
  {
   "cell_type": "code",
   "execution_count": null,
   "metadata": {},
   "outputs": [],
   "source": [
    "u_meas\n",
    "ds.sel(time='2022-07-13')"
   ]
  },
  {
   "cell_type": "code",
   "execution_count": null,
   "metadata": {},
   "outputs": [],
   "source": [
    "dss"
   ]
  },
  {
   "cell_type": "code",
   "execution_count": null,
   "metadata": {},
   "outputs": [],
   "source": [
    "fig, ax = plt.subplots(figsize=(10,5))\n",
    "dsd['vB1'].isel(time=1).Ezz.plot(ax=ax, x='freq', y='range')\n",
    "plt.show()"
   ]
  }
 ],
 "metadata": {
  "kernelspec": {
   "display_name": "roxsi",
   "language": "python",
   "name": "python3"
  },
  "language_info": {
   "codemirror_mode": {
    "name": "ipython",
    "version": 3
   },
   "file_extension": ".py",
   "mimetype": "text/x-python",
   "name": "python",
   "nbconvert_exporter": "python",
   "pygments_lexer": "ipython3",
   "version": "3.10.1"
  },
  "orig_nbformat": 4
 },
 "nbformat": 4,
 "nbformat_minor": 2
}
